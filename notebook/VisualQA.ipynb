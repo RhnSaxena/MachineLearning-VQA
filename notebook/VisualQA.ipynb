{
  "nbformat": 4,
  "nbformat_minor": 0,
  "metadata": {
    "colab": {
      "name": "VisualQA_my.ipynb",
      "provenance": [],
      "collapsed_sections": []
    },
    "kernelspec": {
      "name": "python3",
      "display_name": "Python 3"
    },
    "accelerator": "GPU"
  },
  "cells": [
    {
      "cell_type": "code",
      "metadata": {
        "id": "IJlQdR6ak_Vj",
        "colab_type": "code",
        "outputId": "feda61ae-5690-40e5-9de1-72767a52b673",
        "colab": {
          "base_uri": "https://localhost:8080/",
          "height": 128
        }
      },
      "source": [
        "!pip install easy-vqa"
      ],
      "execution_count": 0,
      "outputs": [
        {
          "output_type": "stream",
          "text": [
            "Collecting easy-vqa\n",
            "\u001b[?25l  Downloading https://files.pythonhosted.org/packages/32/e7/dbdd733ea110ff04c8b0b7ce7d49acce06f1dd18ed304d9f8f9b3f26c1a3/easy_vqa-1.0-py3-none-any.whl (3.2MB)\n",
            "\u001b[K     |████████████████████████████████| 3.2MB 2.8MB/s \n",
            "\u001b[?25hInstalling collected packages: easy-vqa\n",
            "Successfully installed easy-vqa-1.0\n"
          ],
          "name": "stdout"
        }
      ]
    },
    {
      "cell_type": "code",
      "metadata": {
        "id": "NemPsqo1lOxX",
        "colab_type": "code",
        "outputId": "a8b57531-eeb0-4261-d010-7528b4468279",
        "colab": {
          "base_uri": "https://localhost:8080/",
          "height": 35
        }
      },
      "source": [
        "from keras.models import Model\n",
        "from keras.layers import Input, Dense, Conv2D, MaxPooling2D, Flatten, Multiply\n",
        "from keras.optimizers import Adam\n",
        "from keras.preprocessing.text import Tokenizer\n",
        "from keras.preprocessing.image import load_img, img_to_array\n",
        "from keras.utils import to_categorical\n",
        "from keras.callbacks import ModelCheckpoint\n",
        "from easy_vqa import get_train_questions, get_test_questions, get_train_image_paths, get_test_image_paths, get_answers"
      ],
      "execution_count": 0,
      "outputs": [
        {
          "output_type": "stream",
          "text": [
            "Using TensorFlow backend.\n"
          ],
          "name": "stderr"
        }
      ]
    },
    {
      "cell_type": "code",
      "metadata": {
        "id": "iYoFPkMYldMq",
        "colab_type": "code",
        "colab": {}
      },
      "source": [
        "def build_model(im_shape, vocab_size, num_answers):\n",
        "  \n",
        "  # CNN\n",
        "  im_input = Input(shape=im_shape)\n",
        "  x1 = Conv2D(8, 3, padding='same')(im_input)\n",
        "  x1 = MaxPooling2D()(x1)\n",
        "  x1 = Conv2D(16, 3, padding='same')(x1)\n",
        "  x1 = MaxPooling2D()(x1)\n",
        "  x1 = Conv2D(32, 3, padding='same')(x1)\n",
        "  x1 = MaxPooling2D()(x1)\n",
        "  x1 = Flatten()(x1)\n",
        "  img_emb = Dense(32, activation='relu')(x1)\n",
        "\n",
        "  # Question encoder\n",
        "  q_input = Input(shape=(vocab_size,))\n",
        "  x2 = Dense(32, activation='relu')(q_input)\n",
        "  ques_emb = Dense(32, activation='relu')(x2)\n",
        "\n",
        "  # Merging the outputs\n",
        "  out = Multiply()([img_emb, ques_emb])\n",
        "  out = Dense(32, activation='relu')(out)\n",
        "  out = Dense(num_answers, activation='softmax')(out)\n",
        "\n",
        "  model = Model(inputs=[im_input, q_input], outputs=out)\n",
        "  model.compile(Adam(lr=5e-4), loss='categorical_crossentropy', metrics=['accuracy'])\n",
        "\n",
        "  return model"
      ],
      "execution_count": 0,
      "outputs": []
    },
    {
      "cell_type": "code",
      "metadata": {
        "id": "nF8GgyTMl2Zt",
        "colab_type": "code",
        "colab": {}
      },
      "source": [
        "def setup():\n",
        "  \n",
        "  #Reading Questions\n",
        "  print('\\n--- Reading questions...')\n",
        "  train_qs, train_answers, train_image_ids = get_train_questions()\n",
        "  test_qs, test_answers, test_image_ids = get_test_questions()\n",
        "  print(f'Read {len(train_qs)} training questions and {len(test_qs)} testing questions.')\n",
        "\n",
        "  # Reading Answers \n",
        "  print('\\n--- Reading answers...')\n",
        "  all_answers = get_answers()\n",
        "  num_answers = len(all_answers)\n",
        "  print(f'Found {num_answers} total answers:')\n",
        "  print(all_answers)\n",
        "\n",
        "  \n",
        "  print('\\n--- Reading and pre-processing images...')\n",
        "  def load_and_proccess_image(image_path):\n",
        "    # Load image, then scale and shift pixel values to [-0.5, 0.5]\n",
        "    im = img_to_array(load_img(image_path))\n",
        "    return im / 255 - 0.5\n",
        "\n",
        "  def read_images(paths):\n",
        "    # paths is a dict mapping image ID to image path\n",
        "    # Returns a dict mapping image ID to the processed image\n",
        "    ims = {}\n",
        "    for image_id, image_path in paths.items():\n",
        "      ims[image_id] = load_and_proccess_image(image_path)\n",
        "    return ims\n",
        "\n",
        "  # Reading images \n",
        "  train_ims = read_images(get_train_image_paths())\n",
        "  test_ims = read_images(get_test_image_paths())\n",
        "  im_shape = train_ims[0].shape\n",
        "  print(f'Read {len(train_ims)} training images and {len(test_ims)} testing images.')\n",
        "  print(f'Each image has shape {im_shape}.')\n",
        "\n",
        "\n",
        "  print('\\n--- Fitting question tokenizer...')\n",
        "  tokenizer = Tokenizer()\n",
        "  tokenizer.fit_on_texts(train_qs)\n",
        "\n",
        "  # Adding one because the Keras Tokenizer reserves index 0 and never uses it.\n",
        "  vocab_size = len(tokenizer.word_index) + 1\n",
        "  print(f'Vocab Size: {vocab_size}')\n",
        "  print(tokenizer.word_index)\n",
        "\n",
        "\n",
        "  # Converting questions to bags of words\n",
        "  train_X_seqs = tokenizer.texts_to_matrix(train_qs)\n",
        "  test_X_seqs = tokenizer.texts_to_matrix(test_qs)\n",
        "  \n",
        "\n",
        "  # Creating model input images\n",
        "  train_X_ims = [train_ims[id] for id in train_image_ids]\n",
        "  test_X_ims = [test_ims[id] for id in test_image_ids]\n",
        "\n",
        "\n",
        "  # Creating model outputs\n",
        "  train_answer_indices = [all_answers.index(a) for a in train_answers]\n",
        "  test_answer_indices = [all_answers.index(a) for a in test_answers]\n",
        "  train_Y = to_categorical(train_answer_indices)\n",
        "  test_Y = to_categorical(test_answer_indices)\n",
        "\n",
        "  return (train_X_ims, train_X_seqs, train_Y, test_X_ims, test_X_seqs,\n",
        "          test_Y, im_shape, vocab_size, num_answers)  "
      ],
      "execution_count": 0,
      "outputs": []
    },
    {
      "cell_type": "code",
      "metadata": {
        "id": "HIqAJDVIngCA",
        "colab_type": "code",
        "outputId": "3d04c5f9-1f65-4d8c-f212-b89239653012",
        "colab": {
          "base_uri": "https://localhost:8080/",
          "height": 1000
        }
      },
      "source": [
        "# Preparing the data\n",
        "train_X_ims, train_X_seqs, train_Y, test_X_ims, test_X_seqs, test_Y, im_shape, vocab_size, num_answers = setup()\n",
        "\n",
        "# Building the model\n",
        "model = build_model(im_shape, vocab_size, num_answers)\n",
        "checkpoint = ModelCheckpoint('model_1.h5', save_best_only=True)\n",
        "\n",
        "print('\\n--- Training the model...')\n",
        "history = model.fit(\n",
        "  [train_X_ims, train_X_seqs],\n",
        "  train_Y,\n",
        "  validation_data=([test_X_ims, test_X_seqs], test_Y),\n",
        "  shuffle=True,\n",
        "  epochs=30,\n",
        "  callbacks=[checkpoint],\n",
        ")"
      ],
      "execution_count": 0,
      "outputs": [
        {
          "output_type": "stream",
          "text": [
            "\n",
            "--- Reading questions...\n",
            "Read 38575 training questions and 9673 testing questions.\n",
            "\n",
            "--- Reading answers...\n",
            "Found 13 total answers:\n",
            "['circle', 'green', 'red', 'gray', 'yes', 'teal', 'black', 'rectangle', 'yellow', 'triangle', 'brown', 'blue', 'no']\n",
            "\n",
            "--- Reading and pre-processing images...\n",
            "Read 4000 training images and 1000 testing images.\n",
            "Each image has shape (64, 64, 3).\n",
            "\n",
            "--- Fitting question tokenizer...\n",
            "Vocab Size: 27\n",
            "{'is': 1, 'shape': 2, 'the': 3, 'a': 4, 'image': 5, 'there': 6, 'not': 7, 'what': 8, 'present': 9, 'does': 10, 'contain': 11, 'in': 12, 'color': 13, 'no': 14, 'circle': 15, 'rectangle': 16, 'triangle': 17, 'brown': 18, 'yellow': 19, 'gray': 20, 'teal': 21, 'black': 22, 'red': 23, 'green': 24, 'blue': 25, 'of': 26}\n",
            "\n",
            "--- Training the model...\n",
            "Train on 38575 samples, validate on 9673 samples\n",
            "Epoch 1/30\n",
            "38575/38575 [==============================] - 16s 426us/step - loss: 0.8899 - accuracy: 0.6378 - val_loss: 0.7839 - val_accuracy: 0.6611\n",
            "Epoch 2/30\n",
            "38575/38575 [==============================] - 10s 255us/step - loss: 0.7335 - accuracy: 0.6774 - val_loss: 0.6852 - val_accuracy: 0.7006\n",
            "Epoch 3/30\n",
            "38575/38575 [==============================] - 10s 260us/step - loss: 0.6110 - accuracy: 0.7281 - val_loss: 0.5526 - val_accuracy: 0.7520\n",
            "Epoch 4/30\n",
            "38575/38575 [==============================] - 10s 260us/step - loss: 0.5193 - accuracy: 0.7613 - val_loss: 0.4892 - val_accuracy: 0.7771\n",
            "Epoch 5/30\n",
            "38575/38575 [==============================] - 10s 260us/step - loss: 0.4691 - accuracy: 0.7769 - val_loss: 0.4533 - val_accuracy: 0.7837\n",
            "Epoch 6/30\n",
            "38575/38575 [==============================] - 10s 253us/step - loss: 0.4312 - accuracy: 0.7910 - val_loss: 0.4294 - val_accuracy: 0.7923\n",
            "Epoch 7/30\n",
            "38575/38575 [==============================] - 10s 254us/step - loss: 0.4034 - accuracy: 0.7992 - val_loss: 0.4061 - val_accuracy: 0.7987\n",
            "Epoch 8/30\n",
            "38575/38575 [==============================] - 10s 259us/step - loss: 0.3742 - accuracy: 0.8136 - val_loss: 0.3910 - val_accuracy: 0.8021\n",
            "Epoch 9/30\n",
            "38575/38575 [==============================] - 10s 255us/step - loss: 0.3504 - accuracy: 0.8251 - val_loss: 0.3706 - val_accuracy: 0.8110\n",
            "Epoch 10/30\n",
            "38575/38575 [==============================] - 10s 258us/step - loss: 0.3312 - accuracy: 0.8353 - val_loss: 0.3546 - val_accuracy: 0.8215\n",
            "Epoch 11/30\n",
            "38575/38575 [==============================] - 10s 259us/step - loss: 0.3099 - accuracy: 0.8479 - val_loss: 0.3483 - val_accuracy: 0.8264\n",
            "Epoch 12/30\n",
            "38575/38575 [==============================] - 10s 257us/step - loss: 0.2931 - accuracy: 0.8559 - val_loss: 0.3461 - val_accuracy: 0.8288\n",
            "Epoch 13/30\n",
            "38575/38575 [==============================] - 10s 258us/step - loss: 0.2755 - accuracy: 0.8665 - val_loss: 0.3367 - val_accuracy: 0.8403\n",
            "Epoch 14/30\n",
            "38575/38575 [==============================] - 10s 252us/step - loss: 0.2563 - accuracy: 0.8757 - val_loss: 0.3243 - val_accuracy: 0.8428\n",
            "Epoch 15/30\n",
            "38575/38575 [==============================] - 10s 252us/step - loss: 0.2422 - accuracy: 0.8831 - val_loss: 0.3003 - val_accuracy: 0.8570\n",
            "Epoch 16/30\n",
            "38575/38575 [==============================] - 10s 252us/step - loss: 0.2236 - accuracy: 0.8912 - val_loss: 0.3123 - val_accuracy: 0.8550\n",
            "Epoch 17/30\n",
            "38575/38575 [==============================] - 10s 263us/step - loss: 0.2017 - accuracy: 0.9048 - val_loss: 0.3250 - val_accuracy: 0.8577\n",
            "Epoch 18/30\n",
            "38575/38575 [==============================] - 10s 259us/step - loss: 0.1880 - accuracy: 0.9128 - val_loss: 0.2815 - val_accuracy: 0.8759\n",
            "Epoch 19/30\n",
            "38575/38575 [==============================] - 10s 253us/step - loss: 0.1642 - accuracy: 0.9250 - val_loss: 0.2494 - val_accuracy: 0.8925\n",
            "Epoch 20/30\n",
            "38575/38575 [==============================] - 10s 254us/step - loss: 0.1455 - accuracy: 0.9331 - val_loss: 0.2184 - val_accuracy: 0.9030\n",
            "Epoch 21/30\n",
            "38575/38575 [==============================] - 10s 251us/step - loss: 0.1288 - accuracy: 0.9427 - val_loss: 0.1881 - val_accuracy: 0.9241\n",
            "Epoch 22/30\n",
            "38575/38575 [==============================] - 10s 256us/step - loss: 0.1093 - accuracy: 0.9510 - val_loss: 0.1932 - val_accuracy: 0.9226\n",
            "Epoch 23/30\n",
            "38575/38575 [==============================] - 10s 258us/step - loss: 0.1011 - accuracy: 0.9554 - val_loss: 0.1874 - val_accuracy: 0.9257\n",
            "Epoch 24/30\n",
            "38575/38575 [==============================] - 10s 255us/step - loss: 0.0891 - accuracy: 0.9612 - val_loss: 0.1753 - val_accuracy: 0.9329\n",
            "Epoch 25/30\n",
            "38575/38575 [==============================] - 10s 251us/step - loss: 0.0730 - accuracy: 0.9707 - val_loss: 0.1850 - val_accuracy: 0.9428\n",
            "Epoch 26/30\n",
            "38575/38575 [==============================] - 10s 251us/step - loss: 0.0640 - accuracy: 0.9759 - val_loss: 0.2094 - val_accuracy: 0.9360\n",
            "Epoch 27/30\n",
            "38575/38575 [==============================] - 10s 253us/step - loss: 0.0568 - accuracy: 0.9794 - val_loss: 0.1372 - val_accuracy: 0.9563\n",
            "Epoch 28/30\n",
            "38575/38575 [==============================] - 10s 252us/step - loss: 0.0524 - accuracy: 0.9817 - val_loss: 0.1564 - val_accuracy: 0.9539\n",
            "Epoch 29/30\n",
            "38575/38575 [==============================] - 10s 253us/step - loss: 0.0349 - accuracy: 0.9877 - val_loss: 0.1607 - val_accuracy: 0.9502\n",
            "Epoch 30/30\n",
            "38575/38575 [==============================] - 10s 255us/step - loss: 0.0397 - accuracy: 0.9866 - val_loss: 0.1752 - val_accuracy: 0.9529\n"
          ],
          "name": "stdout"
        }
      ]
    },
    {
      "cell_type": "code",
      "metadata": {
        "id": "wVAGBpWhoF5o",
        "colab_type": "code",
        "outputId": "ec39adc5-add9-4869-ce0a-40a8c4870120",
        "colab": {
          "base_uri": "https://localhost:8080/",
          "height": 295
        }
      },
      "source": [
        "from matplotlib import pyplot as plt\n",
        "plt.plot(history.history['accuracy'])\n",
        "plt.plot(history.history['val_accuracy'])\n",
        "plt.title('MODEL ACCURACY')\n",
        "plt.ylabel('Accuracy')\n",
        "plt.xlabel('No. of epochs')\n",
        "plt.legend(['train', 'val'], loc='upper left')\n",
        "plt.show()"
      ],
      "execution_count": 0,
      "outputs": [
        {
          "output_type": "display_data",
          "data": {
            "image/png": "[encoded data removed]",
            "text/plain": [
              "<Figure size 432x288 with 1 Axes>"
            ]
          },
          "metadata": {
            "tags": [],
            "needs_background": "light"
          }
        }
      ]
    },
    {
      "cell_type": "code",
      "metadata": {
        "id": "yTsg62MKpor7",
        "colab_type": "code",
        "outputId": "d94c90a0-15db-4ec6-b76e-6bf7c26192fe",
        "colab": {
          "base_uri": "https://localhost:8080/",
          "height": 295
        }
      },
      "source": [
        "plt.plot(history.history['loss'])\n",
        "plt.plot(history.history['val_loss'])\n",
        "plt.title('MODEL LOSS')\n",
        "plt.ylabel('Loss')\n",
        "plt.xlabel('No. of epochs')\n",
        "plt.legend(['train', 'val'], loc='upper left')\n",
        "plt.show()"
      ],
      "execution_count": 0,
      "outputs": [
        {
          "output_type": "display_data",
          "data": {
            "image/png": "[encoded data removed]",
            "text/plain": [
              "<Figure size 432x288 with 1 Axes>"
            ]
          },
          "metadata": {
            "tags": [],
            "needs_background": "light"
          }
        }
      ]
    },
    {
      "cell_type": "code",
      "metadata": {
        "id": "zDIfqy8uqIPR",
        "colab_type": "code",
        "colab": {}
      },
      "source": [
        ""
      ],
      "execution_count": 0,
      "outputs": []
    }
  ]
}